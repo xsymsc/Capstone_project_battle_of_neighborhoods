{
    "cells": [
        {
            "cell_type": "markdown",
            "metadata": {
                "collapsed": true
            },
            "source": "# The Battle of Neighborhoods (Week 1)"
        },
        {
            "cell_type": "markdown",
            "metadata": {},
            "source": "### By Xusheng Yan, November 23, 2019"
        },
        {
            "cell_type": "markdown",
            "metadata": {},
            "source": "## 1. Introduction/Business Problem Section"
        },
        {
            "cell_type": "markdown",
            "metadata": {},
            "source": "###  1.1 Introduction"
        },
        {
            "cell_type": "markdown",
            "metadata": {},
            "source": "#### Big Neighborhoods V.S. Small Neighborhoods - The background"
        },
        {
            "cell_type": "markdown",
            "metadata": {},
            "source": "As one of the largest cities in Canada, Toronto, the capital of the province of Ontario, is the non-negligible place not only for the explorers but also for the investors. Have the largest amount of population in Canada with the population density of no fewer than 400 people per square km, Toronto is the ideal place to run business such as restaurant. \n<br>\n<p>As the neighborhood of Toronto, Montreal, the second largest cities in Canada in terms of population, is also a great option for the investor or business starter. Different from Toronto, which is an English culturally based city, Montreal is a unique and special city in Canada that is built upon the French culture.\n<br>\n<p>After comparing the big two neighborhoods, this project will also analyze the small neighborhoods inside each city. In the case of Metropolitan Toronto, which is also called the Greater Toronto Area (GTA), contains various neighborhoods. Each neighborhood may have different taste of cuisine so that the suggestions or the opportunities for the restaurant investors may also vary from neighborhood to neighborhood. Same pattern may or may not apply to the city of Montreal, which is worth our investigation. "
        },
        {
            "cell_type": "code",
            "execution_count": 12,
            "metadata": {},
            "outputs": [
                {
                    "data": {
                        "text/html": "<img src=\"https://i.ytimg.com/vi/M004hBLFR5s/maxresdefault.jpg\"/>",
                        "text/plain": "<IPython.core.display.Image object>"
                    },
                    "execution_count": 12,
                    "metadata": {},
                    "output_type": "execute_result"
                }
            ],
            "source": "from IPython.display import Image\nfrom IPython.core.display import HTML \nImage(url= \"https://i.ytimg.com/vi/M004hBLFR5s/maxresdefault.jpg\")"
        },
        {
            "cell_type": "markdown",
            "metadata": {},
            "source": "###  1.2 Business Problem"
        },
        {
            "cell_type": "markdown",
            "metadata": {},
            "source": "It is no doubt that larger population would have the more potential turnover regarding investing in the restaurant business since the customer-base is larger. However, does this common sense robust for all investors or restaurant business runner? The results may vary if we investigate this case with the cultural perspective. Thus, this project should shed the light on how the culture would influence the clustering of the various cuisines. In short, the problems that this project is trying to tackle are:\n<p>1.\tDoes the suggestion vary for different restaurant investors if we investigate the small neighborhoods inside the city?\n<p>2.\tDoes the suggestion vary between these two big neighborhoods since their culture is different?"
        },
        {
            "cell_type": "markdown",
            "metadata": {},
            "source": "Besides, after the analysis of this case, we should also be able to answer the following question:\n<p>3.\tWhat is the most popular cuisine for each small neighborhood?\n<p>4.\tWhat is the most popular cuisine among these two big neighborhoods?\n"
        },
        {
            "cell_type": "markdown",
            "metadata": {},
            "source": "###  1.3 Target Audience"
        },
        {
            "cell_type": "markdown",
            "metadata": {},
            "source": "The target audience would be the investors or business starters who are looking to open a restaurant located either in Toronto or Montreal. Specifically, the audience would be wondering which city should they start. Or, if they have decided the location of the city but not the explicitly area, they would curious about which is the best neighborhood to start regarding their own cuisine. "
        },
        {
            "cell_type": "markdown",
            "metadata": {},
            "source": "## 2. Data Section"
        },
        {
            "cell_type": "markdown",
            "metadata": {},
            "source": "The data that we use in this project is from the Foursquare location: https://foursquare.com. We collect the data via the different queries from Foursquare. In order to be able to provide actionable and meaningful suggestions to the restaurant business runners or investors, we will query the data for Toronto and Montreal along with the small neighborhoods in each city. By searching the data on Foursquare, we can obtain the most up-to-date restaurant information that other customers or users would get. With the first-hand information, we can have the idea regarding which type of cuisine is the most popolar choices in each small and big neighborhoods. This analyzation would provide both the detailed view as well as the whole picture in terms of the restaurant business to the target audience.\nAfter we collect the data, we implement the data cleansing and extract the useful information that is valuable for our target auidence. We will analyze the information and provide the feedback in the discussion section."
        },
        {
            "cell_type": "markdown",
            "metadata": {},
            "source": "We also need the information of coordinates via: https://www.latlong.net"
        },
        {
            "cell_type": "markdown",
            "metadata": {},
            "source": "The list of the neighborhoods of Toronto can be found: https://en.wikipedia.org/wiki/List_of_neighbourhoods_in_Toronto"
        },
        {
            "cell_type": "markdown",
            "metadata": {},
            "source": "The list of the neighborhoods of Montreal can be found: https://en.wikipedia.org/wiki/List_of_neighbourhoods_in_Montreal"
        },
        {
            "cell_type": "markdown",
            "metadata": {},
            "source": "## 3. Methodology"
        },
        {
            "cell_type": "code",
            "execution_count": null,
            "metadata": {},
            "outputs": [],
            "source": ""
        }
    ],
    "metadata": {
        "kernelspec": {
            "display_name": "Python 3.6",
            "language": "python",
            "name": "python3"
        },
        "language_info": {
            "codemirror_mode": {
                "name": "ipython",
                "version": 3
            },
            "file_extension": ".py",
            "mimetype": "text/x-python",
            "name": "python",
            "nbconvert_exporter": "python",
            "pygments_lexer": "ipython3",
            "version": "3.6.8"
        }
    },
    "nbformat": 4,
    "nbformat_minor": 1
}